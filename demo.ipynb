{
 "cells": [
  {
   "cell_type": "code",
   "execution_count": 1,
   "metadata": {},
   "outputs": [],
   "source": [
    "import requests"
   ]
  },
  {
   "cell_type": "code",
   "execution_count": 17,
   "metadata": {},
   "outputs": [],
   "source": [
    "def get_stream(query: str):\n",
    "    s = requests.Session()\n",
    "    with s.get(\n",
    "        \"http://localhost:8000/chat\",\n",
    "        stream=True,\n",
    "        json={\"text\": query}\n",
    "    ) as r:\n",
    "        for line in r.iter_content(decode_unicode=True):\n",
    "            print(line, end=\"\")"
   ]
  },
  {
   "cell_type": "code",
   "execution_count": 18,
   "metadata": {},
   "outputs": [
    {
     "name": "stdout",
     "output_type": "stream",
     "text": [
      "Sure! Here’s a snake-themed joke for you:\n",
      "\n",
      "Once upon a time in a lush green jungle, there lived a snake named Sammy. Sammy was known for being the most charming snake around, but he had a peculiar problem: he was terrified of mice! One day, while slithering through the grass, he overheard a group of animals chatting about a big party happening that evening in the jungle.\n",
      "\n",
      "Excited, Sammy decided he would go, but then he remembered his fear of mice. “What if there are mice at the party?” he thought. Determined not to let fear hold him back, he came up with a plan. He would wear a disguise! So, he wrapped himself in some colorful leaves, creating a fabulous costume that made him look like a bush.\n",
      "\n",
      "At the party, everyone was having a great time. Sammy, feeling proud of his disguise, slithered in and started dancing. Suddenly, he spotted a little mouse in the corner! Panic set in, and he froze. The mouse, noticing the commotion, approached Sammy and said, “Why are you hiding? You look like a real snake in the grass!”\n",
      "\n",
      "Sammy sighed and replied, “Well, I am a snake in the grass, but I’m just here to have a good time—without any mice!” \n",
      "\n",
      "And from that day on, Sammy learned that sometimes, it’s best to just be yourself, even if you’re a snake afraid of mice!"
     ]
    }
   ],
   "source": [
    "get_stream(\"Hello, tell me a joke about snakes in around 200 words.\")"
   ]
  }
 ],
 "metadata": {
  "kernelspec": {
   "display_name": "venv",
   "language": "python",
   "name": "python3"
  },
  "language_info": {
   "codemirror_mode": {
    "name": "ipython",
    "version": 3
   },
   "file_extension": ".py",
   "mimetype": "text/x-python",
   "name": "python",
   "nbconvert_exporter": "python",
   "pygments_lexer": "ipython3",
   "version": "3.11.9"
  }
 },
 "nbformat": 4,
 "nbformat_minor": 2
}
