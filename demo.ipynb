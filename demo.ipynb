{
 "cells": [
  {
   "cell_type": "code",
   "execution_count": 3,
   "metadata": {},
   "outputs": [],
   "source": [
    "import requests"
   ]
  },
  {
   "cell_type": "code",
   "execution_count": 1,
   "metadata": {},
   "outputs": [],
   "source": [
    "def get_stream(query: str):\n",
    "    s = requests.Session()\n",
    "    with s.get(\n",
    "        \"http://localhost:8000/chat\",\n",
    "        stream=True,\n",
    "        json={\"text\": query}\n",
    "    ) as r:\n",
    "        for line in r.iter_content(decode_unicode=True):\n",
    "            print(line, end=\"\")"
   ]
  },
  {
   "cell_type": "code",
   "execution_count": 7,
   "metadata": {},
   "outputs": [
    {
     "name": "stdout",
     "output_type": "stream",
     "text": [
      "To build better habits, you can follow these strategies based on the principles outlined in the documents:\n",
      "\n",
      "1. **Become Aware of Your Habits**:\n",
      "   - Fill out a Habits Scorecard to write down your current habits. This will help you become aware of what you do regularly.\n",
      "\n",
      "2. **Use Implementation Intentions**:\n",
      "   - Formulate specific plans by saying, “I will [BEHAVIOR] at [TIME] in [LOCATION].” This clarity can help you stick to your intentions.\n",
      "\n",
      "3. **Habit Stacking**:\n",
      "   - Use habit stacking by saying, “After [CURRENT HABIT], I will [NEW HABIT].” This links a new habit to an existing one, making it easier to remember and perform.\n",
      "\n",
      "4. **Design Your Environment**:\n",
      "   - Make the cues for good habits obvious and visible. Arrange your environment to support your desired habits.\n",
      "\n",
      "5. **Make It Attractive**:\n",
      "   - Use temptation bundling by pairing an action you want to do with an action you need to do. This makes the necessary actions more appealing.\n",
      "   - Join a culture where your desired behavior is the norm, as social influence can motivate you.\n",
      "   - Create a motivation ritual by doing something enjoyable right before tackling a difficult habit.\n",
      "\n",
      "6. **Make It Easy**:\n",
      "   - Reduce friction by decreasing the number of steps between you and your good habits. The easier it is, the more likely you are to do it.\n",
      "   - Prime your environment to make future actions easier.\n",
      "   - Master the decisive moment by optimizing small choices that have a big impact.\n",
      "   - Use the Two-Minute Rule to downscale your habits until they can be done in two minutes or less. This lowers the barrier to starting.\n",
      "   - Automate your habits by investing in technology or making one-time purchases that lock in future behavior.\n",
      "\n",
      "7. **Make It Satisfying**:\n",
      "   - Ensure that your habits are rewarding. Find ways to celebrate small wins or track your progress to maintain motivation.\n",
      "\n",
      "By implementing these strategies, you can effectively build and maintain better habits in your daily life."
     ]
    }
   ],
   "source": [
    "get_stream(\"How to build better habits?\")"
   ]
  },
  {
   "cell_type": "code",
   "execution_count": null,
   "metadata": {},
   "outputs": [],
   "source": []
  },
  {
   "cell_type": "code",
   "execution_count": null,
   "metadata": {},
   "outputs": [],
   "source": []
  },
  {
   "cell_type": "code",
   "execution_count": null,
   "metadata": {},
   "outputs": [],
   "source": []
  },
  {
   "cell_type": "code",
   "execution_count": 1,
   "metadata": {},
   "outputs": [],
   "source": [
    "from langchain_text_splitters import RecursiveCharacterTextSplitter\n",
    "from langchain_community.document_loaders import PyPDFLoader\n"
   ]
  },
  {
   "cell_type": "code",
   "execution_count": 5,
   "metadata": {},
   "outputs": [
    {
     "name": "stdout",
     "output_type": "stream",
     "text": [
      "page_content='' metadata={'source': './docs/Atomic Habits James Clear.pdf', 'page': 0}\n"
     ]
    }
   ],
   "source": [
    "loader = PyPDFLoader('./docs/Atomic Habits James Clear.pdf')\n",
    "doc = loader.load()\n",
    "\n",
    "print(doc[0])"
   ]
  },
  {
   "cell_type": "code",
   "execution_count": null,
   "metadata": {},
   "outputs": [],
   "source": []
  }
 ],
 "metadata": {
  "kernelspec": {
   "display_name": "venv",
   "language": "python",
   "name": "python3"
  },
  "language_info": {
   "codemirror_mode": {
    "name": "ipython",
    "version": 3
   },
   "file_extension": ".py",
   "mimetype": "text/x-python",
   "name": "python",
   "nbconvert_exporter": "python",
   "pygments_lexer": "ipython3",
   "version": "3.11.9"
  }
 },
 "nbformat": 4,
 "nbformat_minor": 2
}
